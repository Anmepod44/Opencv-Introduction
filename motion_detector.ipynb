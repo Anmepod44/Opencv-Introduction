{
 "cells": [
  {
   "cell_type": "code",
   "execution_count": 1,
   "metadata": {},
   "outputs": [],
   "source": [
    "import cv2,time\n",
    "import numpy as np"
   ]
  },
  {
   "cell_type": "code",
   "execution_count": 2,
   "metadata": {},
   "outputs": [],
   "source": [
    "video=cv2.VideoCapture(0)\n",
    "a=0\n",
    "first_frame=None\n",
    "check,frame=video.read()\n",
    "#kernel=np.ones((5,5),np.uint8)"
   ]
  },
  {
   "cell_type": "code",
   "execution_count": 3,
   "metadata": {},
   "outputs": [],
   "source": [
    "while True:\n",
    "    a=a+1\n",
    "     \n",
    "    gray=cv2.cvtColor(frame,cv2.COLOR_BGR2GRAY)\n",
    "    gray=cv2.GaussianBlur(gray,(21,21),0)\n",
    "    \n",
    "    if first_frame is None:\n",
    "        first_frame=gray\n",
    "    deltaframe=cv2.absdiff(first_frame,gray)\n",
    "    deltathresh=cv2.threshold(deltaframe,30,255,cv2.THRESH_BINARY)[1]\n",
    "    deltathresh=cv2.dilate(deltathresh,None,iterations=0)\n",
    "    \n",
    "    (_,cnts,_)=cv2.findContours(deltathresh.copy(),cv2.RETR_EXTERNAL,cv2.CHAIN_APPROX_SIMPLE)\n",
    "    for contour in cnts:\n",
    "        if cv2.contourArea(contour)<1000:\n",
    "            continue\n",
    "            x,y,w,h=cv2.boundingRect(contour)\n",
    "            cv2.rectangle(frame,(x,y),(x+w,y+h),(234,123,43),3)\n",
    "    \n",
    "    #cv2.imshow('frame',frame)\n",
    "    #cv2.imshow('gray',gray)\n",
    "    #cv2.imshow('deltathresh',deltathresh)\n",
    "    cv2.imshow('deltaframe',deltaframe)\n",
    "    \n",
    "    key=cv2.waitKey(1)\n",
    "    if key==ord('q'):\n",
    "        break\n",
    "    \n",
    "    \n",
    "video.release()\n",
    "cv2.destroyAllWindows()\n",
    "        "
   ]
  },
  {
   "cell_type": "code",
   "execution_count": null,
   "metadata": {},
   "outputs": [],
   "source": [
    " "
   ]
  },
  {
   "cell_type": "code",
   "execution_count": null,
   "metadata": {},
   "outputs": [],
   "source": [
    " "
   ]
  },
  {
   "cell_type": "code",
   "execution_count": null,
   "metadata": {},
   "outputs": [],
   "source": [
    " "
   ]
  },
  {
   "cell_type": "code",
   "execution_count": null,
   "metadata": {},
   "outputs": [],
   "source": []
  }
 ],
 "metadata": {
  "kernelspec": {
   "display_name": "Python 3",
   "language": "python",
   "name": "python3"
  },
  "language_info": {
   "codemirror_mode": {
    "name": "ipython",
    "version": 3
   },
   "file_extension": ".py",
   "mimetype": "text/x-python",
   "name": "python",
   "nbconvert_exporter": "python",
   "pygments_lexer": "ipython3",
   "version": "3.7.4"
  }
 },
 "nbformat": 4,
 "nbformat_minor": 2
}
